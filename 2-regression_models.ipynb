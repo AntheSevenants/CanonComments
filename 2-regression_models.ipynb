{
 "cells": [
  {
   "cell_type": "markdown",
   "metadata": {},
   "source": [
    "# Regression models\n",
    "\n",
    "In deze notebook worden alle R-codes die gebruikt worden bij het uitvoeren van een sentimentanalyse op de canonenquête 2022 genoteerd. Deze zijn oorspronkelijk in RStudio verwerkt en zijn hierin geplaatst voor een duidelijkere uitleg. De oorspronkelijke R-code in .r-formaat zijn ook beschikbaar in deze GitHub."
   ]
  },
  {
   "cell_type": "markdown",
   "metadata": {},
   "source": [
    "## R-packages\n",
    "\n",
    "Onderstaande blok code toont de verschillende packages die gebruikt zijn bij de sentimentanalyse.\n",
    "\n",
    "- __lme4__: Gebruikt om de lineaire gemengde modellen te analyseren en te schatten\n",
    "- __Matrix__: Gebruikt om de opslag en bewerkingen van grote datasets efficiënt te laten verlopen\n",
    "- __effects__: Gebruikt om de effecten van de voorspellende factoren te visualiseren\n",
    "- __dplyr__: Helpt bij het manipuleren en aanpassen van DataFrames, hierdoor was het mogelijk om te groeperen en te filteren\n",
    "- __lmerTest__: Geeft de p-waarden en andere statistische testwaarden weer van de regressiemodellen\n",
    "- __officer__: Gebruikt om Word documenten te maken in R\n",
    "- __flextable__: Gebruikt om de samenvattingen om te zetten naar tabellen.\n"
   ]
  },
  {
   "cell_type": "code",
   "execution_count": null,
   "metadata": {
    "vscode": {
     "languageId": "r"
    }
   },
   "outputs": [],
   "source": [
    "library(lme4)\n",
    "library(Matrix)\n",
    "library(effects)\n",
    "library(dplyr)\n",
    "library(lmerTest)\n",
    "library(officer)\n",
    "library(flextable)"
   ]
  },
  {
   "cell_type": "markdown",
   "metadata": {},
   "source": [
    "## Work directory\n",
    "\n",
    "In onderstaande code werd de work directory bepaald en de dataset uit [1-tokenisation.ipynb](https://github.com/AntheSevenants/CanonComments/blob/main/1-tokenisation.ipynb) geladen."
   ]
  },
  {
   "cell_type": "code",
   "execution_count": null,
   "metadata": {
    "vscode": {
     "languageId": "r"
    }
   },
   "outputs": [],
   "source": [
    "# set working directory + opening files\n",
    "setwd(\"CanonComments\")\n",
    "LHT <- read.csv(\"sorted_data/Combined_Ratings.csv\", header = TRUE,\n",
    "                stringsAsFactors = TRUE)"
   ]
  },
  {
   "cell_type": "markdown",
   "metadata": {},
   "source": [
    "## Filters en groeperingen\n",
    "\n",
    "Bij sommigen modellen werden een aantal filters gebruikt om tegemoet te komen aan bepaalde tekorten in de dataset:\n",
    "\n",
    "- __gender__: Gezien er niet genoeg data is om voor _x_ en _Zeg ik liever niet_ te analyseren werd er gefilterd op enkel man en vrouw. Deze filter wordt enkel toegepast bij de regressiemodellen waarin gender een variabele is.\n",
    "- __afkomst__:\n",
    "    - Gezien er niet genoeg data is om ieder land apart te analyseren werden deze gegroepeerd in 3 groepen. Deze groepering wordt enkel gebruikt wanneer afkomst een variabele is.\n",
    "        - _De Lage Landen_: Nederland en België\n",
    "        - _(Voormalige) Nederlandstalige gebieden buiten Europa_: Curaçao, Aruba, Suriname, Indonesië, Bonaire\n",
    "        - _Andere_: de overige landen in de canonenquête\n",
    "    - Daarnaast wordt er nog een model gebouwd waarbij het verschil tussen België en Nederland wordt geanalyseerd. Hiervoor wordt een filter gebruikt\n",
    "- __opleiding__: Gezien het merendeel van de respondenten een universitair diploma heeft, wordt er groepering gebruikt om het verschil te analyseren tussen universitaire en niet-universitaire opleidingen. Dit wordt enkel gebruikt wanneer opleiding een variabele is in het model."
   ]
  },
  {
   "cell_type": "code",
   "execution_count": null,
   "metadata": {
    "vscode": {
     "languageId": "r"
    }
   },
   "outputs": [],
   "source": [
    "# filter gender\n",
    "LHT_filtered_gender <- LHT %>% filter(QPERS_GENDER %in% c(\"Man\", \"Vrouw\"))\n",
    "\n",
    "# groepering afkomst\n",
    "LHT_filtered_birthcountry <- LHT %>%\n",
    "  mutate(QPERS_BIRTH_COUNTRY_Grouped = case_when(\n",
    "    QPERS_BIRTH_COUNTRY %in% c(\"België\", \"Nederland\") ~ \"De lage landen\",\n",
    "    QPERS_BIRTH_COUNTRY %in% c(\"Curaçao\", \"Aruba\",\n",
    "                               \"Suriname\", \"Indonesië\", \"Bonaire\")\n",
    "    ~ \"(Voormalige) Nederlandstalige gebieden buiten Europa\",\n",
    "    TRUE ~ \"Andere\" # Default case for all other countries\n",
    "  ))\n",
    "# filter België en Nederland\n",
    "LHT_filtered_BENE <- LHT %>%\n",
    "  filter(QPERS_BIRTH_COUNTRY %in% c(\"België\", \"Nederland\"))\n",
    "\n",
    "# groepering opleiding\n",
    "LHT$QPERS_EDU_Grouped <-\n",
    "  ifelse(LHT$QPERS_EDU == \"Hoger onderwijs (universitair)\",\n",
    "         \"universitair\", \"niet-universitair\")"
   ]
  },
  {
   "cell_type": "markdown",
   "metadata": {},
   "source": [
    "## Algemene modellen\n",
    "Met algemene modellen worden de regressiemodellen aangeduid die alle data uit de commentaren van de canonenquête analyseren. Voor deze masterproef zijn er voor deze data 32 modellen gebouwd:\n",
    "- __leeftijd__: 8 modellen\n",
    "- __gender__: 8 modellen\n",
    "- __opleidingsniveau__: 8 modellen\n",
    "- __afkomst__: 8 modellen\n",
    "\n",
    "De variabelen werden voor deze steeds handmatig aangepast en waarbij de samenvattingen handmatig geanalyseerd."
   ]
  },
  {
   "cell_type": "code",
   "execution_count": null,
   "metadata": {
    "vscode": {
     "languageId": "r"
    }
   },
   "outputs": [],
   "source": [
    "# Het model wordt gebouwd op basis van de afhankelijke en\n",
    "# onafhankelijke variabelen.\n",
    "# eventueel wordt de gefilterde dataset geladen.\n",
    "Age <- lmer(Surprise ~ QPERS_AGE + (1|response_id) + (1|questions), data = LHT)\n",
    "summary(Age)\n",
    "# Wanneer er signficante verbanden gevonden zijn, wordt er een effect gemaakt\n",
    "# en gevisualiseerd in het oranje\n",
    "eff <- effect(\"QPERS_AGE\", Age)\n",
    "plot(eff_data$QPERS_AGE, eff_data$fit, type = \"l\",\n",
    "     col = \"orange\", lwd = 2,\n",
    "     main = \"Effect van leeftijd op valentie\",\n",
    "     xlab = \"leeftijd\", ylab = \"valentie\",\n",
    "     xlim = range(eff_data$QPERS_AGE),\n",
    "     ylim = range(c(eff_data$lower, eff_data$upper)))\n",
    "# het betrouwbaarheidsinterval wordt toegevoegd\n",
    "polygon(c(eff_data$QPERS_AGE, rev(eff_data$QPERS_AGE)),\n",
    "        c(eff_data$lower, rev(eff_data$upper)),\n",
    "        col = rgb(1, 0.5, 0, 0.2), border = NA)\n",
    "# de rug (tick marks) worden toegevoegd\n",
    "rug(eff_data$QPERS_AGE, col = \"orange\")\n",
    "# het raster wordt toegevoegd zodat de grafiek leesbaarder is\n",
    "grid(col = \"grey\", lty = \"dotted\")"
   ]
  },
  {
   "cell_type": "markdown",
   "metadata": {},
   "source": [
    "## Onderwerpspecfieke modellen\n",
    "\n",
    "Gezien er voor de onderwerpsspecifieke vragen steeds dezelfde formulie gebruikt kan worden, is er gebruikt gemaakt van _lapply_ om zeer snel 80 modellen te draaien. Hierdoor is het mogelijk om een soort van loop te creëren die de basis formule van een lineair regressiemodel (zie thesis voor reden) kan invullen met de afhankelijke variabelen en de juiste filter om vraag per vraag te behandelen.\n"
   ]
  },
  {
   "cell_type": "code",
   "execution_count": null,
   "metadata": {
    "vscode": {
     "languageId": "r"
    }
   },
   "outputs": [],
   "source": [
    "# opslaan van de variabelen die gebruikt worden in de modellen\n",
    "dependent_vars <- c(\"Valence\", \"Arousal\",\n",
    "                    \"Happiness\", \"Anger\", \"Fear\", \"Sadness\",\n",
    "                    \"Disgust\", \"Surprise\")\n",
    "question_vars <- c(\"QI\", \"QC\", \"Q9\", \"Q10\", \"Q11\",\n",
    "                   \"Q12_B\", \"Q14\", \"Q15\", \"Q16\", \"Q17\")\n",
    "\n",
    "# lapply loop die de vraag filteren uit de dataset\n",
    "# + steeds iedere afhankelijke variabele invult\n",
    "models2 <- lapply(question_vars, function(question) {\n",
    "  data_subset <- LHT_filtered_gender[LHT_filtered_gender$questions ==\n",
    "                                       question, ]\n",
    "  lapply(dependent_vars, function(var) {\n",
    "    formula <- as.formula(paste(var, \"~ QPERS_AGE + QPERS_GENDER\"))\n",
    "    model <- lm(formula, data = data_subset)\n",
    "    summary(model)\n",
    "  })\n",
    "})\n",
    "\n",
    "# aan de hand van het cijfer tussen de twee\n",
    "# is het mogelijk om de summaries van ieder\n",
    "# model op te roepen\n",
    "models2[[1]]"
   ]
  },
  {
   "cell_type": "markdown",
   "metadata": {},
   "source": [
    "Onderstaande code werd dan gebruikt om het effect van een signficant verband te visualiseren. Dit is het voorbeeld voor vraag Q9 waar leeftijd en gender een significant effect hebben op geluk. Deze code is hergebruikt om dan andere visualisaties te maken."
   ]
  },
  {
   "cell_type": "code",
   "execution_count": null,
   "metadata": {
    "vscode": {
     "languageId": "r"
    }
   },
   "outputs": [],
   "source": [
    "# De data wordt gefilterd op de specifieke vraag waar een verband is\n",
    "data_subset <- subset(LHT_filtered_gender, questions == \"Q9\")\n",
    "# Het model met leeftijd en gender wordt gemaakt\n",
    "# om het gecombineerde effect te bekijken.\n",
    "model <- lm(Happiness ~ QPERS_AGE + QPERS_GENDER, data = data_subset)\n",
    "# ter controle wordt de samenvatting gecontroleerd met\n",
    "# de samenvatting van lapply.\n",
    "summary(model)\n",
    "\n",
    "# Het effect van leeftijd wordt opnieuw berekend\n",
    "# en geconverteerd naar een data.frame\n",
    "eff_age <- effect(\"QPERS_AGE\", model)\n",
    "eff_age_df <- as.data.frame(eff_age)\n",
    "\n",
    "# De dataset wordt gefilterd voor mannen\n",
    "data_subset_male <- subset(data_subset, QPERS_GENDER == \"Man\")\n",
    "# Het model wordt gebouwd dat het effect van leeftijd voor mannen nagaat\n",
    "# en wordt berekend en opgeslagen in een data.frame\n",
    "model_male <- lm(Happiness ~ QPERS_AGE, data = data_subset_male)\n",
    "eff_age_male <- effect(\"QPERS_AGE\", model_male)\n",
    "eff_age_male_df <- as.data.frame(eff_age_male)\n",
    "\n",
    "# Hetzelfde wordt gedaan voor het effect van leeftijd voor vrouwen\n",
    "data_subset_female <- subset(data_subset, QPERS_GENDER == \"Vrouw\")\n",
    "model_female <- lm(Happiness ~ QPERS_AGE, data = data_subset_female)\n",
    "eff_age_female <- effect(\"QPERS_AGE\", model_female)\n",
    "eff_age_female_df <- as.data.frame(eff_age_female)\n",
    "\n",
    "# Het effect voor mannen wordt gevisualiseerd in het blauw in de plot\n",
    "plot(eff_age_male_df$QPERS_AGE, eff_age_male_df$fit, type = \"l\", col = \"blue\",\n",
    "     main = \"Effect van leeftijd en gender op opwinding voor Q9\",\n",
    "     xlab = \"leeftijd\", ylab = \"opwinding\",\n",
    "     xlim = c(min(data_subset$QPERS_AGE), max(data_subset$QPERS_AGE)),\n",
    "     ylim = range(c(eff_age_male_df$lower, eff_age_male_df$upper,\n",
    "                    eff_age_female_df$lower, eff_age_female_df$upper)))\n",
    "\n",
    "# Het 95%-betrouwbaarheidsinterval wordt berekend\n",
    "polygon(c(eff_age_male_df$QPERS_AGE, rev(eff_age_male_df$QPERS_AGE)),\n",
    "        c(eff_age_male_df$lower, rev(eff_age_male_df$upper)),\n",
    "        col = rgb(0, 0, 1, 0.2), border = NA)\n",
    "\n",
    "# De distributie voor mannen wordt toegevoegd als rug-plot\n",
    "rug(data_subset_male$QPERS_AGE, col = \"blue\")\n",
    "\n",
    "# Hetzelfde wordt in het geel gedaan voor vrouwen in de plot\n",
    "lines(eff_age_female_df$QPERS_AGE, eff_age_female_df$fit, col = \"yellow\")\n",
    "\n",
    "polygon(c(eff_age_female_df$QPERS_AGE, rev(eff_age_female_df$QPERS_AGE)),\n",
    "        c(eff_age_female_df$lower, rev(eff_age_female_df$upper)),\n",
    "        col = rgb(1, 1, 0, 0.2), border = NA)\n",
    "rug(data_subset_female$QPERS_AGE, col = \"yellow\")\n",
    "\n",
    "# de grid wordt toegevoegd zodat de grafiek leesbaarder is\n",
    "grid()\n",
    "\n",
    "# De legende wordt toegevoegd\n",
    "legend(\"topleft\", legend = c(\"mannen\", \"vrouwen\"), col = c(\"blue\", \"yellow\"),\n",
    "       lty = 1, fill = c(rgb(0, 0, 1, 0.2), rgb(1, 1, 0, 0.2)))\n"
   ]
  },
  {
   "cell_type": "markdown",
   "metadata": {},
   "source": [
    "## Export samenvattingen naar Word\n",
    "\n",
    "Vanwege het grote aantal samenvattingen (112 modellen) werd er via [Copilot](https://copilot.microsoft.com/) een code gevraagd om deze samenvattingen eenvoudig te exporteren naar een Word document zodat dit niet manueel gedaan moest worden. Onderstaande code is dus niet zelf gecreëerd."
   ]
  },
  {
   "cell_type": "code",
   "execution_count": null,
   "metadata": {
    "vscode": {
     "languageId": "r"
    }
   },
   "outputs": [],
   "source": [
    "# Functie om modelresumés om te zetten naar een flextable\n",
    "# met afgeronde waarden en vertalingen\n",
    "model_summary_to_flextable <- \n",
    "  function(model_summary, dependent_var, question_var) {\n",
    "    coef_df <- as.data.frame(model_summary$coefficients)\n",
    "    coef_df <- cbind(variabele = rownames(coef_df), coef_df)\n",
    "    rownames(coef_df) <- NULL\n",
    "    coef_df <- coef_df %>%\n",
    "      mutate(across(where(is.numeric), ~ round(., 3))) %>%\n",
    "      rename(schatting = Estimate, standaardfout = `Std. Error`,\n",
    "             `t-waarde` = `t value`, `p-waarde` = `Pr(>|t|)`)\n",
    "    coef_df$variabele <- ifelse(coef_df$variabele == \"(Intercept)\",\n",
    "                                \"constante (man)\", coef_df$variabele)\n",
    "    coef_df$variabele <- ifelse(coef_df$variabele == \"QPERS_GENDERVrouw\",\n",
    "                                \"verschil (vrouw - man)\", coef_df$variabele)\n",
    "    coef_df$variabele <- ifelse(coef_df$variabele == \"QPERS_AGE\",\n",
    "                                \"leeftijd\", coef_df$variabele)\n",
    "    coef_df <- mutate(coef_df, afhankelijke_variabele = dependent_var,\n",
    "                      vraag = question_var)\n",
    "    flextable(coef_df)\n",
    "  }\n",
    "\n",
    "# Creëer een nieuw Word-document\n",
    "doc <- read_docx()\n",
    "\n",
    "# Vertaal de namen van de afhankelijke variabelen naar het Nederlands\n",
    "afhankelijke_variabelen <- c(\"Valence\" = \"valentie\", \"Arousal\" = \"opwinding\",\n",
    "                             \"Happiness\" = \"geluk\", \"Anger\" = \"woede\",\n",
    "                             \"Fear\" = \"angst\", \"Sadness\" = \"verdriet\",\n",
    "                             \"Disgust\" = \"afgunst\", \"Surprise\" = \"verrassing\")\n",
    "\n",
    "# Converteer alle modelresumés naar flextables en voeg ze toe aan het document\n",
    "for (i in seq_along(question_vars)) {\n",
    "  for (j in seq_along(dependent_vars)) {\n",
    "    model_summary <- models2[[i]][[j]]\n",
    "    question_var <- question_vars[[i]]\n",
    "    dependent_var <- dependent_vars[[j]]\n",
    "    afhankelijke_variabele <- afhankelijke_variabelen[[dependent_var]]\n",
    "    ft <- model_summary_to_flextable(model_summary,\n",
    "                                     afhankelijke_variabele, question_var)\n",
    "    # Voeg een titel toe vóór de tabel\n",
    "    title <- paste(afhankelijke_variabele)\n",
    "    doc <- body_add_par(doc, value = title, style = \"Normal\")\n",
    "    # Voeg de flextable toe\n",
    "    doc <- body_add_flextable(doc, value = ft)\n",
    "    # Voeg een lege regel toe tussen de tabelle\n",
    "    doc <- body_add_par(doc, value = \"\", style = \"Normal\")\n",
    "  }\n",
    "}\n",
    "\n",
    "# Sla het Word-document op\n",
    "print(doc, target = \"model_summaries_dutch.docx\")\n"
   ]
  },
  {
   "cell_type": "code",
   "execution_count": null,
   "metadata": {
    "vscode": {
     "languageId": "r"
    }
   },
   "outputs": [],
   "source": []
  }
 ],
 "metadata": {
  "kernelspec": {
   "display_name": "R",
   "language": "R",
   "name": "ir"
  },
  "language_info": {
   "codemirror_mode": "r",
   "file_extension": ".r",
   "mimetype": "text/x-r-source",
   "name": "R",
   "pygments_lexer": "r",
   "version": "4.4.0"
  }
 },
 "nbformat": 4,
 "nbformat_minor": 2
}
